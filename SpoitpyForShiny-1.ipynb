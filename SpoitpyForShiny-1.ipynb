{
 "cells": [
  {
   "cell_type": "markdown",
   "metadata": {},
   "source": [
    "- Search endpoint to get track IDs.\n",
   
   ]
  },
  {
   "cell_type": "code",
   "execution_count": 5,
   "metadata": {},
   "outputs": [],
   "source": [
    "import pandas as pd\n",
    "import spotipy\n",
    "from spotipy.oauth2 import SpotifyClientCredentials\n",
    "\n",
    "client_id = *\n",
    "client_secret = *\n",
    "\n",
    "\n",
    "from spotipy.oauth2 import SpotifyClientCredentials\n",
    "auth_manager = SpotifyClientCredentials(client_id, \n",
    "                                        client_secret)\n",
    "sp = spotipy.Spotify(auth_manager=auth_manager)\n",
    "\n",
    "# get the playlists \n",
    "playlists = sp.user_playlists('rockandrollhalloffame')\n",
    "\n",
    "# populate the columns as lists\n",
    "playlist_names = []\n",
    "track_names = []\n",
    "artist_names = []\n",
    "popularitys = []\n",
    "track_numbers = []\n",
    "duration_mss = []\n",
    "\n",
    "while playlists:\n",
    "    for playlist in playlists['items']:\n",
    "        playlist_name = playlist['name']\n",
    "        tracks = sp.playlist_tracks(playlist['id'])\n",
    "        for track in tracks['items']:\n",
    "            track = track['track']\n",
    "            track_name = track['name']\n",
    "            track_artists = [a['name'] for a in track['artists']]\n",
    "            id_artists = [a['id'] for a in track['artists']]\n",
    "\n",
    "            popularity = track['popularity']\n",
    "            track_number = track['track_number']\n",
    "            duration_ms = track['duration_ms']\n",
    "\n",
    "            playlist_names.append(playlist_name)\n",
    "            track_names.append(track_name)\n",
    "            artist_names.append(track_artists)\n",
    "            popularitys.append(popularity)\n",
    "            track_numbers.append(track_number)\n",
    "            duration_mss.append(duration_ms)\n",
    "            \n",
    "    if playlists['next']:\n",
    "        playlists = sp.next(playlists)\n",
    "    else:\n",
    "        playlists = None\n",
    "        \n",
    "famer_df = pd.DataFrame(dict(playlist_name = playlist_names, \n",
    "                             track_name = track_names, \n",
    "                             track_artists = artist_names,\n",
    "                             popularity = popularitys,\n",
    "                             track_number = track_numbers,\n",
    "                             duration_ms = duration_mss,\n",
    "                            ))\n"
   ]
  },
  {
   "cell_type": "code",
   "execution_count": 6,
   "metadata": {},
   "outputs": [],
   "source": [
    "famer_df.to_csv('famer.csv')"
   ]
  },
  {
   "cell_type": "code",
   "execution_count": null,
   "metadata": {},
   "outputs": [],
   "source": []
  }
 ],
 "metadata": {
  "kernelspec": {
   "display_name": "Python 3",
   "language": "python",
   "name": "python3"
  },
  "language_info": {
   "codemirror_mode": {
    "name": "ipython",
    "version": 3
   },
   "file_extension": ".py",
   "mimetype": "text/x-python",
   "name": "python",
   "nbconvert_exporter": "python",
   "pygments_lexer": "ipython3",
   "version": "3.7.4"
  }
 },
 "nbformat": 4,
 "nbformat_minor": 2
}
